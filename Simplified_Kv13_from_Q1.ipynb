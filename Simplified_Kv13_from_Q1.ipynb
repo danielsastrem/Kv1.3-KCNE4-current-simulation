{
 "cells": [
  {
   "cell_type": "markdown",
   "id": "b9cf9dfd",
   "metadata": {},
   "source": [
    "# Ion channel simulation #"
   ]
  },
  {
   "cell_type": "markdown",
   "id": "c5910979",
   "metadata": {},
   "source": [
    "#### Importing and preparing data ####"
   ]
  },
  {
   "cell_type": "code",
   "execution_count": 171,
   "id": "9489f561",
   "metadata": {},
   "outputs": [],
   "source": [
    "import numpy as np\n",
    "import pandas as pd\n",
    "import matplotlib.pyplot as plt\n",
    "\n",
    "from scipy.integrate import odeint\n",
    "import pyswarms as ps\n",
    "from pyswarms.single.global_best import GlobalBestPSO\n",
    "from pyswarms.backend.topology import Star\n",
    "\n",
    "import time"
   ]
  },
  {
   "cell_type": "markdown",
   "id": "5e5faa79",
   "metadata": {},
   "source": [
    "### 1. Defining the model ### "
   ]
  },
  {
   "cell_type": "markdown",
   "id": "ba773c89",
   "metadata": {},
   "source": [
    "#### Define time and voltage protocol ####"
   ]
  },
  {
   "cell_type": "code",
   "execution_count": 174,
   "id": "f8d944da",
   "metadata": {},
   "outputs": [],
   "source": [
    "# Define basic parameters\n",
    "t = np.arange(0,523,1)\n",
    "v_hold = -60\n",
    "v_test = np.arange(-80,70,10)\n",
    "rev_potential = -90.783\n",
    "\n",
    "# Function to obtain each individual voltage trace\n",
    "def v_trace(t, v_hold, v_step):\n",
    "    v_trace = []\n",
    "    for ms in t:\n",
    "        if ms < 25:\n",
    "            v_trace.append(v_hold)\n",
    "        elif ms < 275:\n",
    "            v_trace.append(v_step)\n",
    "        else:\n",
    "            v_trace.append(-40)\n",
    "    return v_trace\n",
    "\n",
    "# Loop to get all voltage traces together in a single protocol\n",
    "v_protocol = []\n",
    "for v_step in v_test:\n",
    "    v_step_trace = v_trace(t, v_hold, v_step)\n",
    "    v_protocol.append(v_step_trace)\n",
    "v_protocol = np.array(v_protocol)"
   ]
  },
  {
   "cell_type": "markdown",
   "id": "f5cfee6d",
   "metadata": {},
   "source": [
    "#### Define model functions ####"
   ]
  },
  {
   "cell_type": "code",
   "execution_count": 198,
   "id": "62954e5a",
   "metadata": {},
   "outputs": [],
   "source": [
    "# Calculate voltage-dependent rate constants\n",
    "def v_dep_rate_constants(v, rates):\n",
    "    #Explain how to unravel the given rates\n",
    "    k0_RA, k0_AR, k0_CO, k0_OC, k0_OI, k0_IO, z_RA, z_AR, z_CO, z_OC = rates\n",
    "    \n",
    "    # Define biophysical constants\n",
    "    F = 9648.33  # C / mol\n",
    "    R = 8.314  # J / mol·K\n",
    "    T = 293.15 # Degrees Kelvin\n",
    "    \n",
    "    # Define voltage-dependent parameters\n",
    "    # The 1000 is to convert F/RT from V to mV to match the input voltage\n",
    "    k_RA = k0_RA * np.exp((v / 1000) *  z_RA * (F / (R * T))) \n",
    "    k_AR = k0_AR * np.exp((v / 1000) * -z_AR * (F / (R * T)))\n",
    "    k_CO = k0_CO * np.exp((v / 1000) *  z_CO * (F / (R * T)))\n",
    "    k_OC = k0_OC * np.exp((v / 1000) * -z_OC * (F / (R * T)))\n",
    "    k_OI = k0_OI \n",
    "    k_IO = k0_IO \n",
    "\n",
    "    k = [k_RA, k_AR, k_CO, k_OC, k_OI, k_IO]\n",
    "    \n",
    "    T = np.array([\n",
    "        [-4*k[0], k[1], 0, 0, 0, 0, 0],   #c0\n",
    "        [4*k[0], -k[1] -3*k[0], 2*k[1], 0, 0, 0, 0],   #c1\n",
    "        [0, 3*k[0], -2*k[1] -2*k[0], 3*k[1], 0, 0, 0],   #c2\n",
    "        [0, 0, 2*k[0], -3*k[1] -k[0], 4*k[1], 0, 0],   #c3\n",
    "        [0, 0, 0, k[0], -4*k[1] -k[2], k[3], 0],   #c4\n",
    "        [0, 0, 0, 0, k[2], -k[3] -k[4], k[5]],   #o5\n",
    "        [0, 0, 0, 0, 0, k[4], -k[5]],   #i6\n",
    "        ])\n",
    "    return T\n",
    "\n",
    "# Define how to calculate the open probability\n",
    "def open_prob_model(P0, t, voltage, rates):\n",
    "    #Unpack the state variables\n",
    "    states = P0\n",
    "    # Get the current voltage-dependent constants\n",
    "    index = np.clip(int(t), 0, len(voltage) - 1)\n",
    "    v = voltage[index]\n",
    "    markov_matrix = v_dep_rate_constants(v, rates)  # Example: get the constant based on time index\n",
    "    \n",
    "    # Define the rate of change based on the Markov process\n",
    "    d_states = np.dot(markov_matrix, states)\n",
    "\n",
    "    return d_states\n",
    "    \n",
    "# Define how to calculate current\n",
    "def current_model(P0, t, voltage, rates, n):\n",
    "    g = (13 / 1000) # pA per mV\n",
    "    i_protocol = []\n",
    "    for v_step in voltage:\n",
    "        v_step_trace = v_trace(t, v_hold, v_step)\n",
    "        results, info = odeint(open_prob_model, P0, t, args=(v_step_trace, rates), atol=1e-5, rtol=1e-5, mxstep=15000, full_output=True)\n",
    "        open_prob = results[:,5]\n",
    "        current = open_prob * n * g * (np.array(v_step_trace) - rev_potential)\n",
    "        i_protocol.append(current)\n",
    "    current_df = pd.DataFrame(i_protocol).transpose().set_index(t)\n",
    "    current_df.columns = v_test\n",
    "    return current_df"
   ]
  },
  {
   "cell_type": "markdown",
   "id": "5b04bf20",
   "metadata": {},
   "source": [
    "#### Solve odeint ####"
   ]
  },
  {
   "cell_type": "code",
   "execution_count": 178,
   "id": "196f5ce5",
   "metadata": {},
   "outputs": [],
   "source": [
    "# Initial values\n",
    "P0 = [1, 0, 0, 0, 0, 0, 0]\n",
    "rates = (0.448, 0.043, 280.035, 1.648, 0.003, 0.00008, 0.917606, 1.4412199, 0.1443847, 0.0248558)\n",
    "n = 1000\n",
    "\n",
    "# Execute the model\n",
    "current_df = current_model(P0, t, v_test, rates, n)"
   ]
  },
  {
   "cell_type": "markdown",
   "id": "6350664a",
   "metadata": {},
   "source": [
    "#### Plot the results ####"
   ]
  },
  {
   "cell_type": "code",
   "execution_count": 180,
   "id": "b8c596ba",
   "metadata": {},
   "outputs": [
    {
     "data": {
      "image/png": "[encoded data removed]",
      "text/plain": [
       "<Figure size 640x480 with 1 Axes>"
      ]
     },
     "metadata": {},
     "output_type": "display_data"
    }
   ],
   "source": [
    "fig, ax = plt.subplots()\n",
    "for column in current_df.columns:\n",
    "    ax.plot(t, current_df[column], label=f\"V = {column} mV\")\n",
    "#plt.savefig('KCNQ1_init_estimation.png', format='png')\n",
    "plt.show()"
   ]
  },
  {
   "cell_type": "markdown",
   "id": "fba2f479",
   "metadata": {},
   "source": [
    "### 2. Optimization algorithms ###\n",
    "Open experimental file to compare"
   ]
  },
  {
   "cell_type": "code",
   "execution_count": 182,
   "id": "68bb3167",
   "metadata": {},
   "outputs": [
    {
     "data": {
      "text/plain": [
       "array([[-4.86, -0.19,  0.45, ..., -1.84,  2.3 ,  1.79],\n",
       "       [ 1.67,  0.63,  0.99, ..., -0.67,  1.65, -0.28],\n",
       "       [-1.9 , -1.23, -0.67, ...,  0.5 ,  1.  , -1.29],\n",
       "       ...,\n",
       "       [15.64, 11.24,  9.5 , ..., 37.97, 33.24, 28.81],\n",
       "       [14.11, 10.42,  9.58, ..., 36.39, 33.43, 30.64],\n",
       "       [15.44,  9.66,  8.95, ..., 34.11, 33.95, 31.21]])"
      ]
     },
     "execution_count": 182,
     "metadata": {},
     "output_type": "execute_result"
    }
   ],
   "source": [
    "#Open experimental file\n",
    "exp = pd.read_csv('Kv13_IV.csv', sep=';')\n",
    "experimental_current = np.array(exp.iloc[::2, :].set_index(t).values, dtype=float)\n",
    "experimental_current"
   ]
  },
  {
   "cell_type": "markdown",
   "id": "93be079b",
   "metadata": {},
   "source": [
    "#### Define objective function to minimize ####"
   ]
  },
  {
   "cell_type": "code",
   "execution_count": 184,
   "id": "c96bd394",
   "metadata": {},
   "outputs": [],
   "source": [
    "def objective_function(parameters, voltage, experimental_current):\n",
    "    parameters = np.array(parameters)\n",
    "    errors = []  # Store the error for each particle\n",
    "    if parameters.ndim == 1:  # Single particle\n",
    "        parameters = np.expand_dims(parameters, axis=0)  # Convert to 2D for consistent handling\n",
    "    for parameters_set in parameters:  # Iterate over each particle's parameters\n",
    "        rates = parameters_set[:-1]  # All except the last one are rates\n",
    "        rates = rates.flatten()\n",
    "        n = parameters_set[-1]       # The last parameter is the number of channels\n",
    "    \n",
    "        # Compute model current for this set of parameters\n",
    "        model_current = current_model(P0, t, voltage, rates, n)\n",
    "        model_current = model_current.to_numpy()\n",
    "\n",
    "        # Compute the error (sum of squared differences)\n",
    "        error = np.sum((experimental_current - model_current) ** 2)\n",
    "        errors.append(error)  # Append the error for this particle\n",
    "    return np.array(errors)  # Return the array of errors for all particles"
   ]
  },
  {
   "cell_type": "markdown",
   "id": "9be4abd4",
   "metadata": {},
   "source": [
    "#### Golden Section Search (GSS) ####\n",
    "A technique for finding the extremum (minimum or maximum) of a unimodal function by successively narrowing the range of values."
   ]
  },
  {
   "cell_type": "code",
   "execution_count": 186,
   "id": "836aa050-4126-4b1b-aff9-6de2a345a257",
   "metadata": {},
   "outputs": [],
   "source": [
    "# Definition of the GSS function\n",
    "def golden_section_search(f, a, b, tol=1e-5):\n",
    "    invphi = (np.sqrt(5) - 1) / 2  # 1/phi\n",
    "    invphi2 = (3 - np.sqrt(5)) / 2  # 1/phi^2\n",
    "    h = b - a\n",
    "    if h <= tol:\n",
    "        return (a + b) / 2\n",
    "\n",
    "    n = int(np.ceil(np.log(tol / h) / np.log(invphi)))\n",
    "\n",
    "    c = a + invphi2 * h\n",
    "    d = a + invphi * h\n",
    "    yc = f(c)\n",
    "    yd = f(d)\n",
    "\n",
    "    for _ in range(n - 1):\n",
    "        if yc < yd:\n",
    "            b = d\n",
    "            d = c\n",
    "            yd = yc\n",
    "            h = invphi * h\n",
    "            c = a + invphi2 * h\n",
    "            yc = f(c)\n",
    "        else:\n",
    "            a = c\n",
    "            c = d\n",
    "            yc = yd\n",
    "            h = invphi * h\n",
    "            d = a + invphi * h\n",
    "            yd = f(d)\n",
    "\n",
    "    if yc < yd:\n",
    "        return (a + d) / 2\n",
    "    else:\n",
    "        return (c + b) / 2\n",
    "\n",
    "# GSS implementation for full particle optimization (optimizing all parameters simultaneously)\n",
    "def optimize_parameters_gss(best_params, lb, ub, voltage, experimental_current, tol=1e-5):\n",
    "    refined_params = best_params.copy()\n",
    "\n",
    "    for i in range(len(best_params)):\n",
    "        def f(x):\n",
    "            params = refined_params.copy()\n",
    "            params[i] = x\n",
    "            return objective_function(params, voltage, experimental_current)\n",
    "\n",
    "        # Use GSS to optimize the i-th parameter\n",
    "        refined_params[i] = golden_section_search(f, lb[i], ub[i], tol)\n",
    "\n",
    "    return refined_params"
   ]
  },
  {
   "cell_type": "markdown",
   "id": "546d00d9",
   "metadata": {},
   "source": [
    "#### Particle Swarm Optimization (PSO) ####\n",
    "A global optimization algorithm inspired by the social behavior of birds flocking or fish schooling."
   ]
  },
  {
   "cell_type": "raw",
   "id": "2e95a161-a46d-4b32-b6de-40ce6964d365",
   "metadata": {},
   "source": [
    "# Define iterative PSO + GSS optimization\n",
    "def pso_gss_optimization(initial_positions, lb, ub, iterations, generations, voltage, experimental_current):\n",
    "    bounds = (lb, ub)\n",
    "    w_max = 0.9\n",
    "    w_min = 0.8\n",
    "    best_error = float('inf')\n",
    "    best_params = None\n",
    "    error_history = []\n",
    "\n",
    "    # Initialize optimizer\n",
    "    optimizer = ps.single.general_optimizer.GeneralOptimizerPSO(n_particles=n_particles, dimensions=len(lb), options={'c1': 1.5, 'c2': 2, 'w': w_max}, topology=Star(), bounds=bounds, init_pos=initial_positions)\n",
    "    \n",
    "    for generation in range(generations):\n",
    "        print(f\"Generation {generation + 1}\")\n",
    "\n",
    "        # Linearly update the inertia weight 'w' for this generation\n",
    "        #w = w_max - (w_max - w_min) * (generation / (generations - 1))\n",
    "        #optimizer.options['w'] = w  # Update inertia weight in optimizer options\n",
    "\n",
    "        # Perform PSO\n",
    "        cost, best_pos = optimizer.optimize(lambda parameters: objective_function(parameters, voltage, experimental_current), iters=iterations)\n",
    "        \n",
    "        # Refine with GSS and update the initial positions with the refined parameters\n",
    "        for i in range(n_particles):\n",
    "            refined_params = optimize_parameters_gss(optimizer.swarm.position[i], lb, ub, voltage, experimental_current)\n",
    "            optimizer.swarm.position[i] = refined_params\n",
    "\n",
    "            error = objective_function(refined_params, voltage, experimental_current)\n",
    "            if error < best_error:\n",
    "                best_error = error\n",
    "                best_params = refined_params\n",
    "        \n",
    "        # error_history.append(best_error)\n",
    "\n",
    "        # Refine with GSS\n",
    "        #refined_params = optimize_parameters_gss(best_pos, lb, ub, voltage, experimental_current)\n",
    "\n",
    "        # Update the initial positions with the refined parameters\n",
    "        #optimizer.swarm.position = np.random.uniform(low=lb, high=ub, size=(n_particles, len(lb)))\n",
    "        #optimizer.swarm.position[:, :] = refined_params  # Set all particles to refined parameters\n",
    "        \n",
    "    # Return the final optimized parameters and error\n",
    "    return best_params, best_error, error_history"
   ]
  },
  {
   "cell_type": "code",
   "execution_count": 188,
   "id": "62d7486e-c5b9-408b-8972-346d87092864",
   "metadata": {},
   "outputs": [],
   "source": [
    "# Define iterative PSO + GSS optimization\n",
    "def pso_gss_optimization(initial_positions, lb, ub, iterations, generations, voltage, experimental_current):\n",
    "    bounds = (lb, ub)\n",
    "    options = {'c1': 0.5, 'c2': 0.3, 'w': 0.9}\n",
    "    error_history = []\n",
    "\n",
    "    # Initialize optimizer\n",
    "    optimizer = ps.single.general_optimizer.GeneralOptimizerPSO(n_particles=n_particles, dimensions=len(lb), options=options, topology=Star(), bounds=bounds, init_pos=initial_positions)\n",
    "    \n",
    "    for gen in range(generations):\n",
    "        print(f\"Generation {gen + 1}\")\n",
    "\n",
    "        # Perform PSO\n",
    "        cost, best_pos = optimizer.optimize(lambda parameters: objective_function(parameters, voltage, experimental_current), iters=iterations)\n",
    "        error = objective_function(best_pos, voltage, experimental_current)[0]  # Best position is a single particle\n",
    "        error_history.append(error)\n",
    "        \n",
    "        # Refine with GSS\n",
    "        refined_params = optimize_parameters_gss(best_pos, lb, ub, voltage, experimental_current)\n",
    "\n",
    "        # Update the initial positions with the refined parameters\n",
    "        optimizer.swarm.position = np.random.uniform(low=lb, high=ub, size=(n_particles, len(lb)))\n",
    "        optimizer.swarm.position[:, :] = refined_params  # Set all particles to refined parameters\n",
    "\n",
    "        \n",
    "    # Return the final optimized parameters and error\n",
    "    \n",
    "    final_cost = objective_function([refined_params], voltage, experimental_current)[0]\n",
    "    return refined_params, final_cost, error_history"
   ]
  },
  {
   "cell_type": "markdown",
   "id": "bea4c6a4",
   "metadata": {},
   "source": [
    "#### Execute the optimization protocol ####"
   ]
  },
  {
   "cell_type": "code",
   "execution_count": 190,
   "id": "90b63841-f77c-4996-9cec-7d35a3ab46ca",
   "metadata": {},
   "outputs": [],
   "source": [
    "# Input initial values for PSO\n",
    "P0 = [1, 0, 0, 0, 0, 0, 0]\n",
    "estimated_params = np.array([0.448, 0.043, 280.035, 1.648, 0.003, 0.00008, 0.917606, 1.4412199, 0.1443847, 0.248558, 5200])\n",
    "lb = np.array([0.01, 0.001, 1,  0.01, 0.00001, 1e-8,  0.001, 0.001, 0.001, 0.001,   100])\n",
    "ub = np.array([2,    2,   500, 5,     1,       0.001, 2.5,   2.5,   2.5,   2.5,   10000])"
   ]
  },
  {
   "cell_type": "raw",
   "id": "f91f2c51-d9e2-4607-9ea1-fe696658bac6",
   "metadata": {},
   "source": [
    "# Input initial values for PSO\n",
    "P0 = [1, 0, 0, 0, 0, 0, 0]\n",
    "estimated_params = np.array([0.448, 0.043, 280.035, 1.648, 0.003, 0.00008, 0.91761, 1.44122, 0.144385, 0.024856, 5200])\n",
    "\n",
    "# Scaling factors for different parts of the array\n",
    "k0_scale_factor = 100  # For kinetic rate parameters (rates[0:5] and rates[12]); log is 4.61\n",
    "z_scale_factor = 5     # For charge values (rates[6:9])\n",
    "\n",
    "# Create lower and upper bounds\n",
    "lb = np.copy(estimated_params)\n",
    "ub = np.copy(estimated_params)\n",
    "\n",
    "# Apply scaling for kinetic rate parameters (rates[0:5] and rates[12])\n",
    "k0_indices = [0, 1, 2, 3, 4, 5, 10]\n",
    "lb[k0_indices] = estimated_params[k0_indices] / k0_scale_factor\n",
    "ub[k0_indices] = estimated_params[k0_indices] * k0_scale_factor\n",
    "\n",
    "# Apply scaling for charge values (rates[6:9])\n",
    "z_indices = [6, 7, 8, 9]\n",
    "lb[z_indices] = estimated_params[z_indices] / z_scale_factor\n",
    "ub[z_indices] = estimated_params[z_indices] * z_scale_factor\n",
    "#lb[z_indices] = np.where(estimated_params[z_indices] > 0,\n",
    "#                         estimated_params[z_indices] / z_scale_factor,  # Divide if positive\n",
    "#                         estimated_params[z_indices] * z_scale_factor)  # Multiply if negative\n",
    "\n",
    "#ub[z_indices] = np.where(estimated_params[z_indices] > 0,\n",
    "#                         estimated_params[z_indices] * z_scale_factor,  # Multiply if positive\n",
    "#                         estimated_params[z_indices] / z_scale_factor)  # Divide if negative\n",
    "\n",
    "# Print lower and upper bounds\n",
    "print(\"Lower bounds:\", lb)\n",
    "print(\"Upper bounds:\", ub)"
   ]
  },
  {
   "cell_type": "code",
   "execution_count": 200,
   "id": "8e55b912",
   "metadata": {},
   "outputs": [
    {
     "name": "stderr",
     "output_type": "stream",
     "text": [
      "2024-09-30 21:16:15,446 - pyswarms.single.general_optimizer - INFO - Optimize for 1 iters with {'c1': 0.5, 'c2': 0.3, 'w': 0.9}\n"
     ]
    },
    {
     "name": "stdout",
     "output_type": "stream",
     "text": [
      "Generation 1\n"
     ]
    },
    {
     "name": "stderr",
     "output_type": "stream",
     "text": [
      "pyswarms.single.general_optimizer: 100%|████████████████|1/1, best_cost=1.41e+10\n",
      "2024-09-30 21:16:19,199 - pyswarms.single.general_optimizer - INFO - Optimization finished | best cost: 14062369539.221169, best pos: [4.21071070e-01 4.05582276e-02 1.54466304e+02 1.84247488e+00\n",
      " 2.51439303e-03 8.46838112e-05 8.16260601e-01 1.52190423e+00\n",
      " 1.06607331e-01 3.70254012e-01 4.34504518e+03]\n",
      "2024-09-30 21:18:20,701 - pyswarms.single.general_optimizer - INFO - Optimize for 1 iters with {'c1': 0.5, 'c2': 0.3, 'w': 0.9}\n"
     ]
    },
    {
     "name": "stdout",
     "output_type": "stream",
     "text": [
      "Generation 2\n"
     ]
    },
    {
     "name": "stderr",
     "output_type": "stream",
     "text": [
      "pyswarms.single.general_optimizer: 100%|█████████████████|1/1, best_cost=3.36e+9\n",
      "2024-09-30 21:18:24,955 - pyswarms.single.general_optimizer - INFO - Optimization finished | best cost: 3361218661.429155, best pos: [1.27424358e-01 1.20248518e-01 9.25375080e+01 1.84324318e+00\n",
      " 2.07603930e-03 4.07526872e-06 2.49998619e+00 2.49997481e+00\n",
      " 2.49988761e+00 2.49997129e+00 5.26317146e+03]\n",
      "2024-09-30 21:20:42,157 - pyswarms.single.general_optimizer - INFO - Optimize for 1 iters with {'c1': 0.5, 'c2': 0.3, 'w': 0.9}\n"
     ]
    },
    {
     "name": "stdout",
     "output_type": "stream",
     "text": [
      "Generation 3\n"
     ]
    },
    {
     "name": "stderr",
     "output_type": "stream",
     "text": [
      "pyswarms.single.general_optimizer: 100%|█████████████████|1/1, best_cost=2.82e+9\n",
      "2024-09-30 21:20:46,494 - pyswarms.single.general_optimizer - INFO - Optimization finished | best cost: 2824957376.2438555, best pos: [1.23138963e-01 1.41486420e-01 7.16028575e+01 1.85417446e+00\n",
      " 1.91857634e-03 4.07526872e-06 2.49999540e+00 2.49999540e+00\n",
      " 2.49993230e+00 2.49998619e+00 5.50194593e+03]\n",
      "2024-09-30 21:23:21,680 - pyswarms.single.general_optimizer - INFO - Optimize for 1 iters with {'c1': 0.5, 'c2': 0.3, 'w': 0.9}\n"
     ]
    },
    {
     "name": "stdout",
     "output_type": "stream",
     "text": [
      "Generation 4\n"
     ]
    },
    {
     "name": "stderr",
     "output_type": "stream",
     "text": [
      "pyswarms.single.general_optimizer: 100%|█████████████████|1/1, best_cost=2.18e+9\n",
      "2024-09-30 21:23:26,747 - pyswarms.single.general_optimizer - INFO - Optimization finished | best cost: 2176009300.6058283, best pos: [1.41413609e-01 1.61715878e-01 5.85117911e+01 1.86394467e+00\n",
      " 2.10725046e-03 4.07526872e-06 2.49999540e+00 2.49998050e+00\n",
      " 2.49991740e+00 2.49995071e+00 5.68969759e+03]\n",
      "2024-09-30 21:26:09,049 - pyswarms.single.general_optimizer - INFO - Optimize for 1 iters with {'c1': 0.5, 'c2': 0.3, 'w': 0.9}\n"
     ]
    },
    {
     "name": "stdout",
     "output_type": "stream",
     "text": [
      "Generation 5\n"
     ]
    },
    {
     "name": "stderr",
     "output_type": "stream",
     "text": [
      "pyswarms.single.general_optimizer: 100%|█████████████████|1/1, best_cost=1.67e+9\n",
      "2024-09-30 21:26:13,891 - pyswarms.single.general_optimizer - INFO - Optimization finished | best cost: 1673799138.2982044, best pos: [1.63242982e-01 1.80131013e-01 5.07634349e+01 1.87038371e+00\n",
      " 2.28627980e-03 4.07526872e-06 2.49999540e+00 2.49996560e+00\n",
      " 2.49967989e+00 2.49998971e+00 5.81366866e+03]\n"
     ]
    },
    {
     "ename": "KeyboardInterrupt",
     "evalue": "",
     "output_type": "error",
     "traceback": [
      "\u001b[0;31m---------------------------------------------------------------------------\u001b[0m",
      "\u001b[0;31mKeyboardInterrupt\u001b[0m                         Traceback (most recent call last)",
      "Cell \u001b[0;32mIn[200], line 10\u001b[0m\n\u001b[1;32m      8\u001b[0m \u001b[38;5;66;03m# Run PSO + GSS optimization\u001b[39;00m\n\u001b[1;32m      9\u001b[0m start_time \u001b[38;5;241m=\u001b[39m time\u001b[38;5;241m.\u001b[39mtime()\n\u001b[0;32m---> 10\u001b[0m final_params, final_error, error_history \u001b[38;5;241m=\u001b[39m pso_gss_optimization(initial_positions, lb, ub, iterations, generations, voltage\u001b[38;5;241m=\u001b[39mv_test, experimental_current\u001b[38;5;241m=\u001b[39mexperimental_current)\n\u001b[1;32m     11\u001b[0m end_time \u001b[38;5;241m=\u001b[39m time\u001b[38;5;241m.\u001b[39mtime()\n\u001b[1;32m     13\u001b[0m \u001b[38;5;66;03m#Output\u001b[39;00m\n",
      "Cell \u001b[0;32mIn[188], line 19\u001b[0m, in \u001b[0;36mpso_gss_optimization\u001b[0;34m(initial_positions, lb, ub, iterations, generations, voltage, experimental_current)\u001b[0m\n\u001b[1;32m     16\u001b[0m error_history\u001b[38;5;241m.\u001b[39mappend(error)\n\u001b[1;32m     18\u001b[0m \u001b[38;5;66;03m# Refine with GSS\u001b[39;00m\n\u001b[0;32m---> 19\u001b[0m refined_params \u001b[38;5;241m=\u001b[39m optimize_parameters_gss(best_pos, lb, ub, voltage, experimental_current)\n\u001b[1;32m     21\u001b[0m \u001b[38;5;66;03m# Update the initial positions with the refined parameters\u001b[39;00m\n\u001b[1;32m     22\u001b[0m optimizer\u001b[38;5;241m.\u001b[39mswarm\u001b[38;5;241m.\u001b[39mposition \u001b[38;5;241m=\u001b[39m np\u001b[38;5;241m.\u001b[39mrandom\u001b[38;5;241m.\u001b[39muniform(low\u001b[38;5;241m=\u001b[39mlb, high\u001b[38;5;241m=\u001b[39mub, size\u001b[38;5;241m=\u001b[39m(n_particles, \u001b[38;5;28mlen\u001b[39m(lb)))\n",
      "Cell \u001b[0;32mIn[186], line 48\u001b[0m, in \u001b[0;36moptimize_parameters_gss\u001b[0;34m(best_params, lb, ub, voltage, experimental_current, tol)\u001b[0m\n\u001b[1;32m     45\u001b[0m         \u001b[38;5;28;01mreturn\u001b[39;00m objective_function(params, voltage, experimental_current)\n\u001b[1;32m     47\u001b[0m     \u001b[38;5;66;03m# Use GSS to optimize the i-th parameter\u001b[39;00m\n\u001b[0;32m---> 48\u001b[0m     refined_params[i] \u001b[38;5;241m=\u001b[39m golden_section_search(f, lb[i], ub[i], tol)\n\u001b[1;32m     50\u001b[0m \u001b[38;5;28;01mreturn\u001b[39;00m refined_params\n",
      "Cell \u001b[0;32mIn[186], line 30\u001b[0m, in \u001b[0;36mgolden_section_search\u001b[0;34m(f, a, b, tol)\u001b[0m\n\u001b[1;32m     28\u001b[0m         h \u001b[38;5;241m=\u001b[39m invphi \u001b[38;5;241m*\u001b[39m h\n\u001b[1;32m     29\u001b[0m         d \u001b[38;5;241m=\u001b[39m a \u001b[38;5;241m+\u001b[39m invphi \u001b[38;5;241m*\u001b[39m h\n\u001b[0;32m---> 30\u001b[0m         yd \u001b[38;5;241m=\u001b[39m f(d)\n\u001b[1;32m     32\u001b[0m \u001b[38;5;28;01mif\u001b[39;00m yc \u001b[38;5;241m<\u001b[39m yd:\n\u001b[1;32m     33\u001b[0m     \u001b[38;5;28;01mreturn\u001b[39;00m (a \u001b[38;5;241m+\u001b[39m d) \u001b[38;5;241m/\u001b[39m \u001b[38;5;241m2\u001b[39m\n",
      "Cell \u001b[0;32mIn[186], line 45\u001b[0m, in \u001b[0;36moptimize_parameters_gss.<locals>.f\u001b[0;34m(x)\u001b[0m\n\u001b[1;32m     43\u001b[0m params \u001b[38;5;241m=\u001b[39m refined_params\u001b[38;5;241m.\u001b[39mcopy()\n\u001b[1;32m     44\u001b[0m params[i] \u001b[38;5;241m=\u001b[39m x\n\u001b[0;32m---> 45\u001b[0m \u001b[38;5;28;01mreturn\u001b[39;00m objective_function(params, voltage, experimental_current)\n",
      "Cell \u001b[0;32mIn[184], line 12\u001b[0m, in \u001b[0;36mobjective_function\u001b[0;34m(parameters, voltage, experimental_current)\u001b[0m\n\u001b[1;32m      9\u001b[0m n \u001b[38;5;241m=\u001b[39m parameters_set[\u001b[38;5;241m-\u001b[39m\u001b[38;5;241m1\u001b[39m]       \u001b[38;5;66;03m# The last parameter is the number of channels\u001b[39;00m\n\u001b[1;32m     11\u001b[0m \u001b[38;5;66;03m# Compute model current for this set of parameters\u001b[39;00m\n\u001b[0;32m---> 12\u001b[0m model_current \u001b[38;5;241m=\u001b[39m current_model(P0, t, voltage, rates, n)\n\u001b[1;32m     13\u001b[0m model_current \u001b[38;5;241m=\u001b[39m model_current\u001b[38;5;241m.\u001b[39mto_numpy()\n\u001b[1;32m     15\u001b[0m \u001b[38;5;66;03m# Compute the error (sum of squared differences)\u001b[39;00m\n",
      "Cell \u001b[0;32mIn[198], line 53\u001b[0m, in \u001b[0;36mcurrent_model\u001b[0;34m(P0, t, voltage, rates, n)\u001b[0m\n\u001b[1;32m     51\u001b[0m \u001b[38;5;28;01mfor\u001b[39;00m v_step \u001b[38;5;129;01min\u001b[39;00m voltage:\n\u001b[1;32m     52\u001b[0m     v_step_trace \u001b[38;5;241m=\u001b[39m v_trace(t, v_hold, v_step)\n\u001b[0;32m---> 53\u001b[0m     results, info \u001b[38;5;241m=\u001b[39m odeint(open_prob_model, P0, t, args\u001b[38;5;241m=\u001b[39m(v_step_trace, rates), atol\u001b[38;5;241m=\u001b[39m\u001b[38;5;241m1e-5\u001b[39m, rtol\u001b[38;5;241m=\u001b[39m\u001b[38;5;241m1e-5\u001b[39m, mxstep\u001b[38;5;241m=\u001b[39m\u001b[38;5;241m15000\u001b[39m, full_output\u001b[38;5;241m=\u001b[39m\u001b[38;5;28;01mTrue\u001b[39;00m)\n\u001b[1;32m     54\u001b[0m     open_prob \u001b[38;5;241m=\u001b[39m results[:,\u001b[38;5;241m5\u001b[39m]\n\u001b[1;32m     55\u001b[0m     current \u001b[38;5;241m=\u001b[39m open_prob \u001b[38;5;241m*\u001b[39m n \u001b[38;5;241m*\u001b[39m g \u001b[38;5;241m*\u001b[39m (np\u001b[38;5;241m.\u001b[39marray(v_step_trace) \u001b[38;5;241m-\u001b[39m rev_potential)\n",
      "File \u001b[0;32m/opt/anaconda3/lib/python3.12/site-packages/scipy/integrate/_odepack_py.py:243\u001b[0m, in \u001b[0;36modeint\u001b[0;34m(func, y0, t, args, Dfun, col_deriv, full_output, ml, mu, rtol, atol, tcrit, h0, hmax, hmin, ixpr, mxstep, mxhnil, mxordn, mxords, printmessg, tfirst)\u001b[0m\n\u001b[1;32m    241\u001b[0m t \u001b[38;5;241m=\u001b[39m copy(t)\n\u001b[1;32m    242\u001b[0m y0 \u001b[38;5;241m=\u001b[39m copy(y0)\n\u001b[0;32m--> 243\u001b[0m output \u001b[38;5;241m=\u001b[39m _odepack\u001b[38;5;241m.\u001b[39modeint(func, y0, t, args, Dfun, col_deriv, ml, mu,\n\u001b[1;32m    244\u001b[0m                          full_output, rtol, atol, tcrit, h0, hmax, hmin,\n\u001b[1;32m    245\u001b[0m                          ixpr, mxstep, mxhnil, mxordn, mxords,\n\u001b[1;32m    246\u001b[0m                          \u001b[38;5;28mint\u001b[39m(\u001b[38;5;28mbool\u001b[39m(tfirst)))\n\u001b[1;32m    247\u001b[0m \u001b[38;5;28;01mif\u001b[39;00m output[\u001b[38;5;241m-\u001b[39m\u001b[38;5;241m1\u001b[39m] \u001b[38;5;241m<\u001b[39m \u001b[38;5;241m0\u001b[39m:\n\u001b[1;32m    248\u001b[0m     warning_msg \u001b[38;5;241m=\u001b[39m (\u001b[38;5;124mf\u001b[39m\u001b[38;5;124m\"\u001b[39m\u001b[38;5;132;01m{\u001b[39;00m_msgs[output[\u001b[38;5;241m-\u001b[39m\u001b[38;5;241m1\u001b[39m]]\u001b[38;5;132;01m}\u001b[39;00m\u001b[38;5;124m Run with full_output = 1 to \u001b[39m\u001b[38;5;124m\"\u001b[39m\n\u001b[1;32m    249\u001b[0m                    \u001b[38;5;124mf\u001b[39m\u001b[38;5;124m\"\u001b[39m\u001b[38;5;124mget quantitative information.\u001b[39m\u001b[38;5;124m\"\u001b[39m)\n",
      "Cell \u001b[0;32mIn[198], line 40\u001b[0m, in \u001b[0;36mopen_prob_model\u001b[0;34m(P0, t, voltage, rates)\u001b[0m\n\u001b[1;32m     38\u001b[0m index \u001b[38;5;241m=\u001b[39m np\u001b[38;5;241m.\u001b[39mclip(\u001b[38;5;28mint\u001b[39m(t), \u001b[38;5;241m0\u001b[39m, \u001b[38;5;28mlen\u001b[39m(voltage) \u001b[38;5;241m-\u001b[39m \u001b[38;5;241m1\u001b[39m)\n\u001b[1;32m     39\u001b[0m v \u001b[38;5;241m=\u001b[39m voltage[index]\n\u001b[0;32m---> 40\u001b[0m markov_matrix \u001b[38;5;241m=\u001b[39m v_dep_rate_constants(v, rates)  \u001b[38;5;66;03m# Example: get the constant based on time index\u001b[39;00m\n\u001b[1;32m     42\u001b[0m \u001b[38;5;66;03m# Define the rate of change based on the Markov process\u001b[39;00m\n\u001b[1;32m     43\u001b[0m d_states \u001b[38;5;241m=\u001b[39m np\u001b[38;5;241m.\u001b[39mdot(markov_matrix, states)\n",
      "Cell \u001b[0;32mIn[198], line 15\u001b[0m, in \u001b[0;36mv_dep_rate_constants\u001b[0;34m(v, rates)\u001b[0m\n\u001b[1;32m     13\u001b[0m k_RA \u001b[38;5;241m=\u001b[39m k0_RA \u001b[38;5;241m*\u001b[39m np\u001b[38;5;241m.\u001b[39mexp((v \u001b[38;5;241m/\u001b[39m \u001b[38;5;241m1000\u001b[39m) \u001b[38;5;241m*\u001b[39m  z_RA \u001b[38;5;241m*\u001b[39m (F \u001b[38;5;241m/\u001b[39m (R \u001b[38;5;241m*\u001b[39m T))) \n\u001b[1;32m     14\u001b[0m k_AR \u001b[38;5;241m=\u001b[39m k0_AR \u001b[38;5;241m*\u001b[39m np\u001b[38;5;241m.\u001b[39mexp((v \u001b[38;5;241m/\u001b[39m \u001b[38;5;241m1000\u001b[39m) \u001b[38;5;241m*\u001b[39m \u001b[38;5;241m-\u001b[39mz_AR \u001b[38;5;241m*\u001b[39m (F \u001b[38;5;241m/\u001b[39m (R \u001b[38;5;241m*\u001b[39m T)))\n\u001b[0;32m---> 15\u001b[0m k_CO \u001b[38;5;241m=\u001b[39m k0_CO \u001b[38;5;241m*\u001b[39m np\u001b[38;5;241m.\u001b[39mexp((v \u001b[38;5;241m/\u001b[39m \u001b[38;5;241m1000\u001b[39m) \u001b[38;5;241m*\u001b[39m  z_CO \u001b[38;5;241m*\u001b[39m (F \u001b[38;5;241m/\u001b[39m (R \u001b[38;5;241m*\u001b[39m T)))\n\u001b[1;32m     16\u001b[0m k_OC \u001b[38;5;241m=\u001b[39m k0_OC \u001b[38;5;241m*\u001b[39m np\u001b[38;5;241m.\u001b[39mexp((v \u001b[38;5;241m/\u001b[39m \u001b[38;5;241m1000\u001b[39m) \u001b[38;5;241m*\u001b[39m \u001b[38;5;241m-\u001b[39mz_OC \u001b[38;5;241m*\u001b[39m (F \u001b[38;5;241m/\u001b[39m (R \u001b[38;5;241m*\u001b[39m T)))\n\u001b[1;32m     17\u001b[0m k_OI \u001b[38;5;241m=\u001b[39m k0_OI \n",
      "\u001b[0;31mKeyboardInterrupt\u001b[0m: "
     ]
    }
   ],
   "source": [
    "# Define optimization parameters\n",
    "generations = 10  # Number of generations\n",
    "iterations = 1  # Iterations per generation\n",
    "n_particles = 10\n",
    "initial_positions = np.random.normal(loc=estimated_params, scale=(0.3*np.abs(estimated_params)), size=(n_particles, len(estimated_params)))\n",
    "initial_positions = np.clip(initial_positions, lb, ub)\n",
    "\n",
    "# Run PSO + GSS optimization\n",
    "start_time = time.time()\n",
    "final_params, final_error, error_history = pso_gss_optimization(initial_positions, lb, ub, iterations, generations, voltage=v_test, experimental_current=experimental_current)\n",
    "end_time = time.time()\n",
    "\n",
    "#Output\n",
    "elapsed_time = end_time - start_time\n",
    "print(f\"Total time taken for optimization: {elapsed_time:.2f} seconds\")\n",
    "print(\"Final Parameters:\", final_params)\n",
    "print(\"Final Error:\", final_error)"
   ]
  },
  {
   "cell_type": "code",
   "execution_count": null,
   "id": "1d79dc49-cf69-49c9-925c-8167692376a2",
   "metadata": {},
   "outputs": [],
   "source": []
  },
  {
   "cell_type": "code",
   "execution_count": null,
   "id": "4373f36b",
   "metadata": {},
   "outputs": [],
   "source": [
    "plt.plot(error_history)\n",
    "plt.xlabel('Iteration Number')\n",
    "plt.ylabel('Error')\n",
    "plt.title('Error in Each Iteration of PSO-GSS')\n",
    "plt.grid()\n",
    "#plt.savefig('Kv13_error.png', format='png')\n",
    "plt.show()"
   ]
  },
  {
   "cell_type": "code",
   "execution_count": null,
   "id": "10c76331-c668-4655-bf73-d02436c7bc96",
   "metadata": {},
   "outputs": [],
   "source": []
  },
  {
   "cell_type": "code",
   "execution_count": 23,
   "id": "90996681-17d3-4f30-baa5-78633c9c4876",
   "metadata": {},
   "outputs": [
    {
     "data": {
      "image/png": "[encoded data removed]",
      "text/plain": [
       "<Figure size 640x480 with 1 Axes>"
      ]
     },
     "metadata": {},
     "output_type": "display_data"
    }
   ],
   "source": [
    "# Initial values\n",
    "P0 = [1, 0, 0, 0, 0, 0]\n",
    "rates = (1.60217915e-02,  4.46269078e-03,  1.46317730e-03,  1.09738298e-03,\n",
    "  6.73061560e-03,  1.82897163e-03, -1.66807039e+00, -2.93898079e+00,\n",
    " -2.51379391e+00, -2.79895565e+00,  2.12989895e-02,  1.59742421e-01,\n",
    "  )\n",
    "n = 9.94960567e+04\n",
    "\n",
    "# Execute the model\n",
    "current_df = current_model(P0, t, v_test, rates, n)\n",
    "\n",
    "# Plot the results\n",
    "fig, ax = plt.subplots()\n",
    "for column in current_df.columns:\n",
    "    ax.plot(t, current_df[column], label=f\"V = {column} mV\")\n",
    "plt.show()"
   ]
  },
  {
   "cell_type": "code",
   "execution_count": 54,
   "id": "760d1faa-4ce1-4ef0-966a-3e8f8c91bb22",
   "metadata": {},
   "outputs": [
    {
     "name": "stdout",
     "output_type": "stream",
     "text": [
      "[ 1.200e-04  6.300e-06  1.900e-05  1.300e-05  1.400e-04  1.118e-01\n",
      "  6.200e+00 -5.500e+04  6.600e+00 -3.400e+04  1.552e-01  1.700e-03\n",
      "  3.030e-02  3.100e-04  1.360e-02  2.110e-02  1.000e+01]\n",
      "[ 1.200e+00  6.300e-02  1.900e-01  1.300e-01  1.400e+00  1.118e+03\n",
      "  6.200e+04 -5.500e+00  6.600e+04 -3.400e+00  1.552e+03  1.700e+01\n",
      "  3.030e+02  3.100e+00  1.360e+02  2.110e+02  1.000e+05]\n",
      "(0.0010148258, 5.32783544e-05, 0.000160680751, 0.000109939462, 0.00118396343, 0.945479369, 52.4326663, -54958.9872, 55.8154189, -33974.6466, 1.31250803, 0.0143766988, 0.256243514, 0.00262163331, 0.115013591, 0.178440203)\n"
     ]
    }
   ],
   "source": [
    "print(lb)\n",
    "print(ub)\n",
    "print(rates)"
   ]
  },
  {
   "cell_type": "code",
   "execution_count": 134,
   "id": "811cc779-0094-4f62-8df5-88b6cd48711f",
   "metadata": {},
   "outputs": [],
   "source": [
    "def objective_function_2D(parameters, voltage, experimental_current):\n",
    "    parameters = np.array(parameters)\n",
    "    rates = parameters[:-1]  \n",
    "    n = parameters[-1]       \n",
    "\n",
    "    model_current = current_model(P0, t, voltage, rates, n)\n",
    "    model_current = model_current.to_numpy()\n",
    "\n",
    "    # Compute the error (sum of squared differences)\n",
    "    error = np.sum(np.abs(experimental_current - model_current))\n",
    "\n",
    "    return error  # Return the array of errors for all particles\n",
    "\n",
    "def plot_2D(param1_array, param2_array):\n",
    "    # Unpack\n",
    "    param1_idx, param1_value, param1_lb, param1_ub, param1_name = param1_array\n",
    "    param2_idx, param2_value, param2_lb, param2_ub, param2_name = param2_array\n",
    "    \n",
    "    # Create a grid of values for the two parameters\n",
    "    param1_values = np.linspace(param1_lb, param1_ub, 100)\n",
    "    param2_values = np.linspace(param2_lb, param2_ub, 100)\n",
    "\n",
    "    # Create a meshgrid for 2D plotting\n",
    "    P1, P2 = np.meshgrid(param1_values, param2_values)\n",
    "\n",
    "    # Initialize a matrix to store the error values\n",
    "    error_values = np.zeros_like(P1)\n",
    "\n",
    "    # Loop through the grid and calculate the error at each point\n",
    "    for i in range(P1.shape[0]):\n",
    "        for j in range(P1.shape[1]):\n",
    "            # Use estimated_params for other parameters, vary only param1 and param2\n",
    "            params = np.copy(estimated_params)\n",
    "            params[param1_idx] = P1[i, j]\n",
    "            params[param2_idx] = P2[i, j]\n",
    "            \n",
    "            # Calculate the error for the current set of parameters\n",
    "            error_values[i, j] = objective_function_2D(params, v_test, experimental_current)\n",
    "\n",
    "    np.savetxt(f'abs_nolog_p{param1_idx}_p{param2_idx}_v1.csv', error_values, delimiter = ',')\n",
    "    \n",
    "    # Plot the 2D error landscape using a contour plot\n",
    "    plt.figure(figsize=(8, 6))\n",
    "    contour = plt.contourf(P1, P2, error_values, 20, cmap='viridis')\n",
    "    plt.colorbar(contour)\n",
    "    plt.xscale('log')\n",
    "    #plt.yscale('log')\n",
    "    \n",
    "    plt.xlabel(f'Parameter {param1_idx}: {param1_name}')\n",
    "    plt.ylabel(f'Parameter {param2_idx}: {param2_name}')\n",
    "    plt.title('2D Error Landscape')\n",
    "    plt.savefig(f'abs_nolog_p{param1_idx}_p{param2_idx}_v1.png', format='png')\n",
    "    plt.show()"
   ]
  },
  {
   "cell_type": "code",
   "execution_count": null,
   "id": "08f95530-ff55-4e7a-8cad-6aef04488349",
   "metadata": {},
   "outputs": [],
   "source": [
    "# RI transition\n",
    "a = 1\n",
    "b = 7\n",
    "params = np.copy(estimated_params)\n",
    "param1_array = [a, params[a], lb[a], ub[a], 'k0_IR']\n",
    "param2_array = [b, params[b], lb[b], ub[b], 'z_IR']\n",
    "plot_2D(param1_array, param2_array)"
   ]
  },
  {
   "cell_type": "code",
   "execution_count": null,
   "id": "11ea1ccd-5016-45d2-84e3-0fc224564a69",
   "metadata": {},
   "outputs": [],
   "source": []
  }
 ],
 "metadata": {
  "kernelspec": {
   "display_name": "Python 3 (ipykernel)",
   "language": "python",
   "name": "python3"
  },
  "language_info": {
   "codemirror_mode": {
    "name": "ipython",
    "version": 3
   },
   "file_extension": ".py",
   "mimetype": "text/x-python",
   "name": "python",
   "nbconvert_exporter": "python",
   "pygments_lexer": "ipython3",
   "version": "3.12.4"
  }
 },
 "nbformat": 4,
 "nbformat_minor": 5
}

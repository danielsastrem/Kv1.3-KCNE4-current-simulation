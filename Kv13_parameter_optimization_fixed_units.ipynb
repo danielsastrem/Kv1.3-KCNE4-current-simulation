{
 "cells": [
  {
   "cell_type": "markdown",
   "id": "c0aebb47-7e1a-44b2-8735-1e2ddb60f150",
   "metadata": {},
   "source": [
    "# Ion channel simulation #"
   ]
  },
  {
   "cell_type": "markdown",
   "id": "d3414b4b-128e-4fab-bf53-cb9c62071bcc",
   "metadata": {},
   "source": [
    "#### Importing and preparing data ####"
   ]
  },
  {
   "cell_type": "code",
   "execution_count": 54,
   "id": "930d060d-7b66-4a96-88c6-5e3e9ce6b24a",
   "metadata": {},
   "outputs": [],
   "source": [
    "import numpy as np\n",
    "import pandas as pd\n",
    "import pyswarms as ps\n",
    "from pyswarms.backend.topology import Star\n",
    "from scipy.integrate import odeint\n",
    "import matplotlib.pyplot as plt\n",
    "import time"
   ]
  },
  {
   "cell_type": "markdown",
   "id": "a4f297d6-f5dd-4826-9a7f-dfbf44777d22",
   "metadata": {},
   "source": [
    "### 1. Defining the model ### "
   ]
  },
  {
   "cell_type": "markdown",
   "id": "804de525-6bcd-4089-834b-766f05992b35",
   "metadata": {},
   "source": [
    "#### Define time and voltage protocol ####"
   ]
  },
  {
   "cell_type": "code",
   "execution_count": 56,
   "id": "e8822262-d5cc-45e4-969e-1af2e04140ce",
   "metadata": {},
   "outputs": [],
   "source": [
    "# Define basic parameters\n",
    "t = np.arange(0,523,1)\n",
    "v_hold = -60\n",
    "v_test = np.arange(-80,70,10)\n",
    "rev_potential = -90.783\n",
    "\n",
    "# Function to obtain each individual voltage trace\n",
    "def v_trace(t, v_hold, v_step):\n",
    "    v_trace = []\n",
    "    for ms in t:\n",
    "        if ms < 25:\n",
    "            v_trace.append(v_hold)\n",
    "        elif ms < 275:\n",
    "            v_trace.append(v_step)\n",
    "        else:\n",
    "            v_trace.append(-40)\n",
    "    return v_trace\n",
    "\n",
    "# Loop to get all voltage traces together in a single protocol\n",
    "v_protocol = []\n",
    "for v_step in v_test:\n",
    "    v_step_trace = v_trace(t, v_hold, v_step)\n",
    "    v_protocol.append(v_step_trace)\n",
    "v_protocol = np.array(v_protocol)"
   ]
  },
  {
   "cell_type": "markdown",
   "id": "f5cd650b-5b84-4554-bbc4-a60160ffb703",
   "metadata": {},
   "source": [
    "#### Define model functions ####"
   ]
  },
  {
   "cell_type": "code",
   "execution_count": 81,
   "id": "776e28fa-df46-4960-ae42-fb41ea7bd614",
   "metadata": {},
   "outputs": [],
   "source": [
    "# Calculate voltage-dependent rate constants\n",
    "def v_dep_rate_constants(v, rates):\n",
    "    #Explain how to unravel the given rates\n",
    "    k0_RA, k0_AR, k0_CO, k0_OC, k0_OI, k0_IO, z_RA, z_AR, z_CO, z_OC = rates\n",
    "    \n",
    "    # Define biophysical constants\n",
    "    F = 96485.33  # C / mol\n",
    "    R = 8.314  # J / mol·K\n",
    "    T = 293.15 # Degrees Kelvin\n",
    "    \n",
    "    # Define voltage-dependent parameters\n",
    "    # The 1000 is to convert F/RT from V to mV to match the input voltage\n",
    "    k_RA = k0_RA * np.exp((v / 1000) *  z_RA * (F / (R * T))) \n",
    "    k_AR = k0_AR * np.exp((v / 1000) *  z_AR * (F / (R * T)))\n",
    "    k_CO = k0_CO * np.exp((v / 1000) *  z_CO * (F / (R * T)))\n",
    "    k_OC = k0_OC * np.exp((v / 1000) *  z_OC * (F / (R * T)))\n",
    "    k_OI = k0_OI \n",
    "    k_IO = k0_IO \n",
    "\n",
    "    k = [k_RA, k_AR, k_CO, k_OC, k_OI, k_IO]\n",
    "    \n",
    "    return k\n",
    "\n",
    "# Define the transition matrix\n",
    "def transition_matrix(k):\n",
    "    T = np.array([\n",
    "        [-4*k[0], k[1], 0, 0, 0, 0, 0],   #c0\n",
    "        [4*k[0], -k[1] -3*k[0], 2*k[1], 0, 0, 0, 0],   #c1\n",
    "        [0, 3*k[0], -2*k[1] -2*k[0], 3*k[1], 0, 0, 0],   #c2\n",
    "        [0, 0, 2*k[0], -3*k[1] -k[0], 4*k[1], 0, 0],   #c3\n",
    "        [0, 0, 0, k[0], -4*k[1] -k[2], k[3], 0],   #c4\n",
    "        [0, 0, 0, 0, k[2], -k[3] -k[4], k[5]],   #o5\n",
    "        [0, 0, 0, 0, 0, k[4], -k[5]],   #i6\n",
    "        ])\n",
    "    return T\n",
    "\n",
    "# Define how to calculate the open probability\n",
    "def open_prob_model(P0, t, voltage, rates):\n",
    "    #Unpack the state variables\n",
    "    states = P0\n",
    "    # Get the current voltage-dependent constants\n",
    "    index = np.clip(int(t), 0, len(voltage) - 1)\n",
    "    v = voltage[index]\n",
    "    k = v_dep_rate_constants(v, rates)  # Example: get the constant based on time index\n",
    "    markov_matrix = transition_matrix(k)\n",
    "    \n",
    "    # Define the rate of change based on the Markov process\n",
    "    d_states = np.dot(markov_matrix, states)\n",
    "\n",
    "    return d_states\n",
    "    \n",
    "# Define how to calculate current\n",
    "def current_model(P0, t, voltage, rates, n):\n",
    "    g = (13 / 1000) # pA per mV\n",
    "    i_protocol = []\n",
    "    for v_step in voltage:\n",
    "        v_step_trace = v_trace(t, v_hold, v_step)\n",
    "        results, info = odeint(open_prob_model, P0, t, args=(v_step_trace, rates), atol=1e-5, rtol=1e-5, mxstep=15000, full_output=True)\n",
    "        open_prob = results[:,5]\n",
    "        current = open_prob * n * g * (np.array(v_step_trace) - rev_potential)\n",
    "        i_protocol.append(current)\n",
    "    current_df = pd.DataFrame(i_protocol).transpose().set_index(t)\n",
    "    current_df.columns = v_test\n",
    "    return current_df"
   ]
  },
  {
   "cell_type": "markdown",
   "id": "cba5f3e3-e948-4a81-8110-114cba1e6c7a",
   "metadata": {},
   "source": [
    "#### Solve odeint ####"
   ]
  },
  {
   "cell_type": "code",
   "execution_count": 83,
   "id": "88129ef8-5e46-4782-aec1-86527026e95d",
   "metadata": {},
   "outputs": [],
   "source": [
    "# Initial values\n",
    "P0 = [1, 0, 0, 0, 0, 0, 0]\n",
    "rates = (0.448, 0.043, 280.035, 1.648, 0.003, 0.00008, 0.917606, -1.4412199, 0.1443847, -0.0248558)\n",
    "n = 1000\n",
    "\n",
    "# Execute the model\n",
    "current_df = current_model(P0, t, v_test, rates, n)"
   ]
  },
  {
   "cell_type": "markdown",
   "id": "d4cfc3b4-0230-493c-a735-52f9bb685634",
   "metadata": {},
   "source": [
    "#### Plot the results ####"
   ]
  },
  {
   "cell_type": "code",
   "execution_count": 85,
   "id": "c8da95fb-1188-4c5c-a8c4-8ba51e05b28e",
   "metadata": {},
   "outputs": [
    {
     "data": {
      "image/png": "[encoded data removed]",
      "text/plain": [
       "<Figure size 640x480 with 1 Axes>"
      ]
     },
     "metadata": {},
     "output_type": "display_data"
    }
   ],
   "source": [
    "fig, ax = plt.subplots()\n",
    "for column in current_df.columns:\n",
    "    ax.plot(t, current_df[column], label=f\"V = {column} mV\")\n",
    "plt.show()"
   ]
  },
  {
   "cell_type": "markdown",
   "id": "d0e5de97-0087-4503-b037-423aa4287794",
   "metadata": {},
   "source": [
    "### 2. Optimization algorithms ###"
   ]
  },
  {
   "cell_type": "markdown",
   "id": "b0f61e21-6677-455d-86c7-16aacbf5befc",
   "metadata": {},
   "source": [
    "Open experimental file to compare"
   ]
  },
  {
   "cell_type": "code",
   "execution_count": 35,
   "id": "928a7740-c9b2-47a5-be77-b41fcfb6eec9",
   "metadata": {},
   "outputs": [],
   "source": [
    "#Open experimental file\n",
    "exp = pd.read_csv('Kv13_IV.csv', sep=';')\n",
    "experimental_current = np.array(exp.iloc[::2, :].set_index(t).values, dtype=float)"
   ]
  },
  {
   "cell_type": "markdown",
   "id": "5af772f0-6352-4b6e-bbe8-6a459d675409",
   "metadata": {},
   "source": [
    "#### Define objective function to minimize ####"
   ]
  },
  {
   "cell_type": "code",
   "execution_count": 37,
   "id": "81182777-173d-4161-b278-94820bc85808",
   "metadata": {},
   "outputs": [],
   "source": [
    "def objective_function(parameters, voltage, experimental_current):\n",
    "    parameters = np.array(parameters)\n",
    "    errors = []  # Store the error for each particle\n",
    "    if parameters.ndim == 1:  # Single particle\n",
    "        parameters = np.expand_dims(parameters, axis=0)  # Convert to 2D for consistent handling\n",
    "    for parameters_set in parameters:  # Iterate over each particle's parameters\n",
    "        rates = parameters_set[:-1]  # All except the last one are rates\n",
    "        rates = rates.flatten()\n",
    "        n = parameters_set[-1]       # The last parameter is the number of channels\n",
    "    \n",
    "        # Compute model current for this set of parameters\n",
    "        model_current = current_model(P0, t, voltage, rates, n)\n",
    "        model_current = model_current.to_numpy()\n",
    "\n",
    "        # Compute the error (sum of squared differences)\n",
    "        error = np.sum((experimental_current - model_current) ** 2)\n",
    "        errors.append(error)  # Append the error for this particle\n",
    "    return np.array(errors)  # Return the array of errors for all particles"
   ]
  },
  {
   "cell_type": "markdown",
   "id": "18c6a17a-d3fe-4684-901b-3ce012140fbc",
   "metadata": {},
   "source": [
    "#### Golden Section Search (GSS) ####\n",
    "A technique for finding the extremum (minimum or maximum) of a unimodal function by successively narrowing the range of values."
   ]
  },
  {
   "cell_type": "code",
   "execution_count": 39,
   "id": "c0250b00-2f91-44e7-8e52-3f21b8ccb564",
   "metadata": {},
   "outputs": [],
   "source": [
    "# Definition of the GSS function\n",
    "def golden_section_search(f, a, b, tol=1e-5):\n",
    "    invphi = (np.sqrt(5) - 1) / 2  # 1/phi\n",
    "    invphi2 = (3 - np.sqrt(5)) / 2  # 1/phi^2\n",
    "    h = b - a\n",
    "    if h <= tol:\n",
    "        return (a + b) / 2\n",
    "\n",
    "    n = int(np.ceil(np.log(tol / h) / np.log(invphi)))\n",
    "\n",
    "    c = a + invphi2 * h\n",
    "    d = a + invphi * h\n",
    "    yc = f(c)\n",
    "    yd = f(d)\n",
    "\n",
    "    for _ in range(n - 1):\n",
    "        if yc < yd:\n",
    "            b = d\n",
    "            d = c\n",
    "            yd = yc\n",
    "            h = invphi * h\n",
    "            c = a + invphi2 * h\n",
    "            yc = f(c)\n",
    "        else:\n",
    "            a = c\n",
    "            c = d\n",
    "            yc = yd\n",
    "            h = invphi * h\n",
    "            d = a + invphi * h\n",
    "            yd = f(d)\n",
    "\n",
    "    if yc < yd:\n",
    "        return (a + d) / 2\n",
    "    else:\n",
    "        return (c + b) / 2\n",
    "\n",
    "# GSS implementation\n",
    "def optimize_parameters_gss(best_params, lb, ub, voltage, experimental_current, tol=1e-5):\n",
    "    refined_params = best_params.copy()\n",
    "\n",
    "    for i in range(len(best_params)):\n",
    "        def f(x):\n",
    "            params = refined_params.copy()\n",
    "            params[i] = x\n",
    "            return objective_function(params, voltage, experimental_current)\n",
    "\n",
    "        # Use GSS to optimize the i-th parameter\n",
    "        refined_params[i] = golden_section_search(f, lb[i], ub[i], tol)\n",
    "\n",
    "    return refined_params"
   ]
  },
  {
   "cell_type": "markdown",
   "id": "5a198d26-7040-4698-9201-05439bae5fba",
   "metadata": {},
   "source": [
    "#### Particle Swarm Optimization (PSO) ####\n",
    "A global optimization algorithm inspired by the social behavior of birds flocking or fish schooling."
   ]
  },
  {
   "cell_type": "code",
   "execution_count": 41,
   "id": "21b3a732-075a-4fec-823d-ed5e84f5e8bf",
   "metadata": {},
   "outputs": [],
   "source": [
    "# Define iterative PSO + GSS optimization\n",
    "def pso_gss_optimization(initial_positions, lb, ub, iterations, generations, voltage, experimental_current):\n",
    "    bounds = (lb, ub)\n",
    "    options = {'c1': 0.5, 'c2': 0.3, 'w': 0.9}\n",
    "    error_history = []\n",
    "\n",
    "    # Initialize optimizer\n",
    "    optimizer = ps.single.general_optimizer.GeneralOptimizerPSO(n_particles=n_particles, dimensions=len(lb), options=options, topology=Star(), bounds=bounds, init_pos=initial_positions)\n",
    "    \n",
    "    for gen in range(generations):\n",
    "        print(f\"Generation {gen + 1}\")\n",
    "\n",
    "        # Perform PSO\n",
    "        cost, best_pos = optimizer.optimize(lambda parameters: objective_function(parameters, voltage, experimental_current), iters=iterations)\n",
    "        error = objective_function(best_pos, voltage, experimental_current)[0]  # Best position is a single particle\n",
    "        error_history.append(error)\n",
    "        \n",
    "        # Refine with GSS\n",
    "        refined_params = optimize_parameters_gss(best_pos, lb, ub, voltage, experimental_current)\n",
    "\n",
    "        # Update the initial positions with the refined parameters\n",
    "        optimizer.swarm.position = np.random.uniform(low=lb, high=ub, size=(n_particles, len(lb)))\n",
    "        optimizer.swarm.position[:, :] = refined_params  # Set all particles to refined parameters\n",
    "\n",
    "        \n",
    "    # Return the final optimized parameters and error\n",
    "    \n",
    "    final_cost = objective_function([refined_params], voltage, experimental_current)[0]\n",
    "    return refined_params, final_cost, error_history"
   ]
  },
  {
   "cell_type": "markdown",
   "id": "7ed0f0dc-71ac-4ddb-8ae9-4b55bf66caef",
   "metadata": {},
   "source": [
    "#### Execute the optimization protocol ####"
   ]
  },
  {
   "cell_type": "code",
   "execution_count": 87,
   "id": "138b5169-8376-4927-a95d-133b77e4d011",
   "metadata": {},
   "outputs": [
    {
     "name": "stderr",
     "output_type": "stream",
     "text": [
      "2024-10-01 09:45:23,125 - pyswarms.single.general_optimizer - INFO - Optimize for 1 iters with {'c1': 0.5, 'c2': 0.3, 'w': 0.9}\n"
     ]
    },
    {
     "name": "stdout",
     "output_type": "stream",
     "text": [
      "Generation 1\n"
     ]
    },
    {
     "name": "stderr",
     "output_type": "stream",
     "text": [
      "pyswarms.single.general_optimizer: 100%|██████████████████|1/1, best_cost=3.9e+9\n",
      "2024-10-01 09:45:29,527 - pyswarms.single.general_optimizer - INFO - Optimization finished | best cost: 3903729955.1008205, best pos: [ 5.12289900e-01  5.82662795e-02  4.37374421e+02  2.19990022e+00\n",
      "  2.81428476e-03  7.28004193e-05  8.09904873e-01 -2.03024313e+00\n",
      "  7.77168797e-02 -2.01777501e-01  5.64252462e+03]\n",
      "2024-10-01 09:47:58,699 - pyswarms.single.general_optimizer - INFO - Optimize for 1 iters with {'c1': 0.5, 'c2': 0.3, 'w': 0.9}\n"
     ]
    },
    {
     "name": "stdout",
     "output_type": "stream",
     "text": [
      "Generation 2\n"
     ]
    },
    {
     "name": "stderr",
     "output_type": "stream",
     "text": [
      "pyswarms.single.general_optimizer: 100%|█████████████████|1/1, best_cost=9.93e+8\n",
      "2024-10-01 09:48:03,772 - pyswarms.single.general_optimizer - INFO - Optimization finished | best cost: 993308244.3522241, best pos: [ 1.28801997e-01  8.17287096e-02  2.59529048e+02  2.16256656e+00\n",
      "  2.76462949e-03  5.50114470e-04  9.00507734e-01 -1.39846669e+00\n",
      "  2.07309178e-01 -2.03050770e-01  5.39426967e+03]\n",
      "2024-10-01 09:50:36,220 - pyswarms.single.general_optimizer - INFO - Optimize for 1 iters with {'c1': 0.5, 'c2': 0.3, 'w': 0.9}\n"
     ]
    },
    {
     "name": "stdout",
     "output_type": "stream",
     "text": [
      "Generation 3\n"
     ]
    },
    {
     "name": "stderr",
     "output_type": "stream",
     "text": [
      "pyswarms.single.general_optimizer: 100%|█████████████████|1/1, best_cost=7.39e+8\n",
      "2024-10-01 09:50:41,037 - pyswarms.single.general_optimizer - INFO - Optimization finished | best cost: 739407672.1839602, best pos: [ 1.46176036e-01  9.85195106e-02  1.78611445e+02  2.12585534e+00\n",
      "  2.52913862e-03  8.31857722e-04  8.67631846e-01 -1.00899358e+00\n",
      "  3.11706165e-01 -2.05317556e-01  5.26403502e+03]\n",
      "2024-10-01 09:53:11,780 - pyswarms.single.general_optimizer - INFO - Optimize for 1 iters with {'c1': 0.5, 'c2': 0.3, 'w': 0.9}\n"
     ]
    },
    {
     "name": "stdout",
     "output_type": "stream",
     "text": [
      "Generation 4\n"
     ]
    },
    {
     "name": "stderr",
     "output_type": "stream",
     "text": [
      "pyswarms.single.general_optimizer: 100%|█████████████████|1/1, best_cost=5.79e+8\n",
      "2024-10-01 09:53:16,703 - pyswarms.single.general_optimizer - INFO - Optimization finished | best cost: 578592925.131779, best pos: [ 1.57081991e-01  1.14981886e-01  1.31845677e+02  2.10108239e+00\n",
      "  2.37167566e-03  9.56468273e-04  8.33627168e-01 -6.87730516e-01\n",
      "  3.97776357e-01 -2.03116044e-01  5.20857836e+03]\n",
      "2024-10-01 09:55:45,706 - pyswarms.single.general_optimizer - INFO - Optimize for 1 iters with {'c1': 0.5, 'c2': 0.3, 'w': 0.9}\n"
     ]
    },
    {
     "name": "stdout",
     "output_type": "stream",
     "text": [
      "Generation 5\n"
     ]
    },
    {
     "name": "stderr",
     "output_type": "stream",
     "text": [
      "pyswarms.single.general_optimizer: 100%|█████████████████|1/1, best_cost=4.63e+8\n",
      "2024-10-01 09:55:50,597 - pyswarms.single.general_optimizer - INFO - Optimization finished | best cost: 463321754.0374797, best pos: [ 1.66512610e-01  1.31417616e-01  1.05357991e+02  2.09378674e+00\n",
      "  2.27663503e-03  9.95934731e-04  8.14437541e-01 -4.44939728e-01\n",
      "  4.52737497e-01 -2.01194557e-01  5.19916092e+03]\n",
      "2024-10-01 09:58:17,214 - pyswarms.single.general_optimizer - INFO - Optimize for 1 iters with {'c1': 0.5, 'c2': 0.3, 'w': 0.9}\n"
     ]
    },
    {
     "name": "stdout",
     "output_type": "stream",
     "text": [
      "Generation 6\n"
     ]
    },
    {
     "name": "stderr",
     "output_type": "stream",
     "text": [
      "pyswarms.single.general_optimizer: 100%|█████████████████|1/1, best_cost=3.84e+8\n",
      "2024-10-01 09:58:21,930 - pyswarms.single.general_optimizer - INFO - Optimization finished | best cost: 383541864.1598711, best pos: [ 1.75273602e-01  1.46380441e-01  8.95784990e+01  2.09526900e+00\n",
      "  2.22017350e-03  9.69623759e-04  8.07541602e-01 -2.78395601e-01\n",
      "  4.84913582e-01 -2.01320759e-01  5.21446584e+03]\n"
     ]
    },
    {
     "ename": "KeyboardInterrupt",
     "evalue": "",
     "output_type": "error",
     "traceback": [
      "\u001b[0;31m---------------------------------------------------------------------------\u001b[0m",
      "\u001b[0;31mKeyboardInterrupt\u001b[0m                         Traceback (most recent call last)",
      "Cell \u001b[0;32mIn[87], line 14\u001b[0m\n\u001b[1;32m     12\u001b[0m \u001b[38;5;66;03m# Run PSO + GSS optimization\u001b[39;00m\n\u001b[1;32m     13\u001b[0m start_time \u001b[38;5;241m=\u001b[39m time\u001b[38;5;241m.\u001b[39mtime()\n\u001b[0;32m---> 14\u001b[0m final_params, final_error, error_history \u001b[38;5;241m=\u001b[39m pso_gss_optimization(initial_positions, lb, ub, iterations, generations, voltage\u001b[38;5;241m=\u001b[39mv_test, experimental_current\u001b[38;5;241m=\u001b[39mexperimental_current)\n\u001b[1;32m     15\u001b[0m end_time \u001b[38;5;241m=\u001b[39m time\u001b[38;5;241m.\u001b[39mtime()\n\u001b[1;32m     17\u001b[0m \u001b[38;5;66;03m#Output\u001b[39;00m\n",
      "Cell \u001b[0;32mIn[41], line 19\u001b[0m, in \u001b[0;36mpso_gss_optimization\u001b[0;34m(initial_positions, lb, ub, iterations, generations, voltage, experimental_current)\u001b[0m\n\u001b[1;32m     16\u001b[0m error_history\u001b[38;5;241m.\u001b[39mappend(error)\n\u001b[1;32m     18\u001b[0m \u001b[38;5;66;03m# Refine with GSS\u001b[39;00m\n\u001b[0;32m---> 19\u001b[0m refined_params \u001b[38;5;241m=\u001b[39m optimize_parameters_gss(best_pos, lb, ub, voltage, experimental_current)\n\u001b[1;32m     21\u001b[0m \u001b[38;5;66;03m# Update the initial positions with the refined parameters\u001b[39;00m\n\u001b[1;32m     22\u001b[0m optimizer\u001b[38;5;241m.\u001b[39mswarm\u001b[38;5;241m.\u001b[39mposition \u001b[38;5;241m=\u001b[39m np\u001b[38;5;241m.\u001b[39mrandom\u001b[38;5;241m.\u001b[39muniform(low\u001b[38;5;241m=\u001b[39mlb, high\u001b[38;5;241m=\u001b[39mub, size\u001b[38;5;241m=\u001b[39m(n_particles, \u001b[38;5;28mlen\u001b[39m(lb)))\n",
      "Cell \u001b[0;32mIn[39], line 48\u001b[0m, in \u001b[0;36moptimize_parameters_gss\u001b[0;34m(best_params, lb, ub, voltage, experimental_current, tol)\u001b[0m\n\u001b[1;32m     45\u001b[0m         \u001b[38;5;28;01mreturn\u001b[39;00m objective_function(params, voltage, experimental_current)\n\u001b[1;32m     47\u001b[0m     \u001b[38;5;66;03m# Use GSS to optimize the i-th parameter\u001b[39;00m\n\u001b[0;32m---> 48\u001b[0m     refined_params[i] \u001b[38;5;241m=\u001b[39m golden_section_search(f, lb[i], ub[i], tol)\n\u001b[1;32m     50\u001b[0m \u001b[38;5;28;01mreturn\u001b[39;00m refined_params\n",
      "Cell \u001b[0;32mIn[39], line 23\u001b[0m, in \u001b[0;36mgolden_section_search\u001b[0;34m(f, a, b, tol)\u001b[0m\n\u001b[1;32m     21\u001b[0m     h \u001b[38;5;241m=\u001b[39m invphi \u001b[38;5;241m*\u001b[39m h\n\u001b[1;32m     22\u001b[0m     c \u001b[38;5;241m=\u001b[39m a \u001b[38;5;241m+\u001b[39m invphi2 \u001b[38;5;241m*\u001b[39m h\n\u001b[0;32m---> 23\u001b[0m     yc \u001b[38;5;241m=\u001b[39m f(c)\n\u001b[1;32m     24\u001b[0m \u001b[38;5;28;01melse\u001b[39;00m:\n\u001b[1;32m     25\u001b[0m     a \u001b[38;5;241m=\u001b[39m c\n",
      "Cell \u001b[0;32mIn[39], line 45\u001b[0m, in \u001b[0;36moptimize_parameters_gss.<locals>.f\u001b[0;34m(x)\u001b[0m\n\u001b[1;32m     43\u001b[0m params \u001b[38;5;241m=\u001b[39m refined_params\u001b[38;5;241m.\u001b[39mcopy()\n\u001b[1;32m     44\u001b[0m params[i] \u001b[38;5;241m=\u001b[39m x\n\u001b[0;32m---> 45\u001b[0m \u001b[38;5;28;01mreturn\u001b[39;00m objective_function(params, voltage, experimental_current)\n",
      "Cell \u001b[0;32mIn[37], line 12\u001b[0m, in \u001b[0;36mobjective_function\u001b[0;34m(parameters, voltage, experimental_current)\u001b[0m\n\u001b[1;32m      9\u001b[0m n \u001b[38;5;241m=\u001b[39m parameters_set[\u001b[38;5;241m-\u001b[39m\u001b[38;5;241m1\u001b[39m]       \u001b[38;5;66;03m# The last parameter is the number of channels\u001b[39;00m\n\u001b[1;32m     11\u001b[0m \u001b[38;5;66;03m# Compute model current for this set of parameters\u001b[39;00m\n\u001b[0;32m---> 12\u001b[0m model_current \u001b[38;5;241m=\u001b[39m current_model(P0, t, voltage, rates, n)\n\u001b[1;32m     13\u001b[0m model_current \u001b[38;5;241m=\u001b[39m model_current\u001b[38;5;241m.\u001b[39mto_numpy()\n\u001b[1;32m     15\u001b[0m \u001b[38;5;66;03m# Compute the error (sum of squared differences)\u001b[39;00m\n",
      "Cell \u001b[0;32mIn[81], line 58\u001b[0m, in \u001b[0;36mcurrent_model\u001b[0;34m(P0, t, voltage, rates, n)\u001b[0m\n\u001b[1;32m     56\u001b[0m \u001b[38;5;28;01mfor\u001b[39;00m v_step \u001b[38;5;129;01min\u001b[39;00m voltage:\n\u001b[1;32m     57\u001b[0m     v_step_trace \u001b[38;5;241m=\u001b[39m v_trace(t, v_hold, v_step)\n\u001b[0;32m---> 58\u001b[0m     results, info \u001b[38;5;241m=\u001b[39m odeint(open_prob_model, P0, t, args\u001b[38;5;241m=\u001b[39m(v_step_trace, rates), atol\u001b[38;5;241m=\u001b[39m\u001b[38;5;241m1e-5\u001b[39m, rtol\u001b[38;5;241m=\u001b[39m\u001b[38;5;241m1e-5\u001b[39m, mxstep\u001b[38;5;241m=\u001b[39m\u001b[38;5;241m15000\u001b[39m, full_output\u001b[38;5;241m=\u001b[39m\u001b[38;5;28;01mTrue\u001b[39;00m)\n\u001b[1;32m     59\u001b[0m     open_prob \u001b[38;5;241m=\u001b[39m results[:,\u001b[38;5;241m5\u001b[39m]\n\u001b[1;32m     60\u001b[0m     current \u001b[38;5;241m=\u001b[39m open_prob \u001b[38;5;241m*\u001b[39m n \u001b[38;5;241m*\u001b[39m g \u001b[38;5;241m*\u001b[39m (np\u001b[38;5;241m.\u001b[39marray(v_step_trace) \u001b[38;5;241m-\u001b[39m rev_potential)\n",
      "File \u001b[0;32m/opt/anaconda3/lib/python3.12/site-packages/scipy/integrate/_odepack_py.py:243\u001b[0m, in \u001b[0;36modeint\u001b[0;34m(func, y0, t, args, Dfun, col_deriv, full_output, ml, mu, rtol, atol, tcrit, h0, hmax, hmin, ixpr, mxstep, mxhnil, mxordn, mxords, printmessg, tfirst)\u001b[0m\n\u001b[1;32m    241\u001b[0m t \u001b[38;5;241m=\u001b[39m copy(t)\n\u001b[1;32m    242\u001b[0m y0 \u001b[38;5;241m=\u001b[39m copy(y0)\n\u001b[0;32m--> 243\u001b[0m output \u001b[38;5;241m=\u001b[39m _odepack\u001b[38;5;241m.\u001b[39modeint(func, y0, t, args, Dfun, col_deriv, ml, mu,\n\u001b[1;32m    244\u001b[0m                          full_output, rtol, atol, tcrit, h0, hmax, hmin,\n\u001b[1;32m    245\u001b[0m                          ixpr, mxstep, mxhnil, mxordn, mxords,\n\u001b[1;32m    246\u001b[0m                          \u001b[38;5;28mint\u001b[39m(\u001b[38;5;28mbool\u001b[39m(tfirst)))\n\u001b[1;32m    247\u001b[0m \u001b[38;5;28;01mif\u001b[39;00m output[\u001b[38;5;241m-\u001b[39m\u001b[38;5;241m1\u001b[39m] \u001b[38;5;241m<\u001b[39m \u001b[38;5;241m0\u001b[39m:\n\u001b[1;32m    248\u001b[0m     warning_msg \u001b[38;5;241m=\u001b[39m (\u001b[38;5;124mf\u001b[39m\u001b[38;5;124m\"\u001b[39m\u001b[38;5;132;01m{\u001b[39;00m_msgs[output[\u001b[38;5;241m-\u001b[39m\u001b[38;5;241m1\u001b[39m]]\u001b[38;5;132;01m}\u001b[39;00m\u001b[38;5;124m Run with full_output = 1 to \u001b[39m\u001b[38;5;124m\"\u001b[39m\n\u001b[1;32m    249\u001b[0m                    \u001b[38;5;124mf\u001b[39m\u001b[38;5;124m\"\u001b[39m\u001b[38;5;124mget quantitative information.\u001b[39m\u001b[38;5;124m\"\u001b[39m)\n",
      "Cell \u001b[0;32mIn[81], line 42\u001b[0m, in \u001b[0;36mopen_prob_model\u001b[0;34m(P0, t, voltage, rates)\u001b[0m\n\u001b[1;32m     40\u001b[0m states \u001b[38;5;241m=\u001b[39m P0\n\u001b[1;32m     41\u001b[0m \u001b[38;5;66;03m# Get the current voltage-dependent constants\u001b[39;00m\n\u001b[0;32m---> 42\u001b[0m index \u001b[38;5;241m=\u001b[39m np\u001b[38;5;241m.\u001b[39mclip(\u001b[38;5;28mint\u001b[39m(t), \u001b[38;5;241m0\u001b[39m, \u001b[38;5;28mlen\u001b[39m(voltage) \u001b[38;5;241m-\u001b[39m \u001b[38;5;241m1\u001b[39m)\n\u001b[1;32m     43\u001b[0m v \u001b[38;5;241m=\u001b[39m voltage[index]\n\u001b[1;32m     44\u001b[0m k \u001b[38;5;241m=\u001b[39m v_dep_rate_constants(v, rates)  \u001b[38;5;66;03m# Example: get the constant based on time index\u001b[39;00m\n",
      "File \u001b[0;32m/opt/anaconda3/lib/python3.12/site-packages/numpy/core/fromnumeric.py:2169\u001b[0m, in \u001b[0;36mclip\u001b[0;34m(a, a_min, a_max, out, **kwargs)\u001b[0m\n\u001b[1;32m   2100\u001b[0m \u001b[38;5;129m@array_function_dispatch\u001b[39m(_clip_dispatcher)\n\u001b[1;32m   2101\u001b[0m \u001b[38;5;28;01mdef\u001b[39;00m \u001b[38;5;21mclip\u001b[39m(a, a_min, a_max, out\u001b[38;5;241m=\u001b[39m\u001b[38;5;28;01mNone\u001b[39;00m, \u001b[38;5;241m*\u001b[39m\u001b[38;5;241m*\u001b[39mkwargs):\n\u001b[1;32m   2102\u001b[0m \u001b[38;5;250m    \u001b[39m\u001b[38;5;124;03m\"\"\"\u001b[39;00m\n\u001b[1;32m   2103\u001b[0m \u001b[38;5;124;03m    Clip (limit) the values in an array.\u001b[39;00m\n\u001b[1;32m   2104\u001b[0m \n\u001b[0;32m   (...)\u001b[0m\n\u001b[1;32m   2167\u001b[0m \n\u001b[1;32m   2168\u001b[0m \u001b[38;5;124;03m    \"\"\"\u001b[39;00m\n\u001b[0;32m-> 2169\u001b[0m     \u001b[38;5;28;01mreturn\u001b[39;00m _wrapfunc(a, \u001b[38;5;124m'\u001b[39m\u001b[38;5;124mclip\u001b[39m\u001b[38;5;124m'\u001b[39m, a_min, a_max, out\u001b[38;5;241m=\u001b[39mout, \u001b[38;5;241m*\u001b[39m\u001b[38;5;241m*\u001b[39mkwargs)\n",
      "File \u001b[0;32m/opt/anaconda3/lib/python3.12/site-packages/numpy/core/fromnumeric.py:56\u001b[0m, in \u001b[0;36m_wrapfunc\u001b[0;34m(obj, method, *args, **kwds)\u001b[0m\n\u001b[1;32m     54\u001b[0m bound \u001b[38;5;241m=\u001b[39m \u001b[38;5;28mgetattr\u001b[39m(obj, method, \u001b[38;5;28;01mNone\u001b[39;00m)\n\u001b[1;32m     55\u001b[0m \u001b[38;5;28;01mif\u001b[39;00m bound \u001b[38;5;129;01mis\u001b[39;00m \u001b[38;5;28;01mNone\u001b[39;00m:\n\u001b[0;32m---> 56\u001b[0m     \u001b[38;5;28;01mreturn\u001b[39;00m _wrapit(obj, method, \u001b[38;5;241m*\u001b[39margs, \u001b[38;5;241m*\u001b[39m\u001b[38;5;241m*\u001b[39mkwds)\n\u001b[1;32m     58\u001b[0m \u001b[38;5;28;01mtry\u001b[39;00m:\n\u001b[1;32m     59\u001b[0m     \u001b[38;5;28;01mreturn\u001b[39;00m bound(\u001b[38;5;241m*\u001b[39margs, \u001b[38;5;241m*\u001b[39m\u001b[38;5;241m*\u001b[39mkwds)\n",
      "File \u001b[0;32m/opt/anaconda3/lib/python3.12/site-packages/numpy/core/fromnumeric.py:45\u001b[0m, in \u001b[0;36m_wrapit\u001b[0;34m(obj, method, *args, **kwds)\u001b[0m\n\u001b[1;32m     43\u001b[0m \u001b[38;5;28;01mexcept\u001b[39;00m \u001b[38;5;167;01mAttributeError\u001b[39;00m:\n\u001b[1;32m     44\u001b[0m     wrap \u001b[38;5;241m=\u001b[39m \u001b[38;5;28;01mNone\u001b[39;00m\n\u001b[0;32m---> 45\u001b[0m result \u001b[38;5;241m=\u001b[39m \u001b[38;5;28mgetattr\u001b[39m(asarray(obj), method)(\u001b[38;5;241m*\u001b[39margs, \u001b[38;5;241m*\u001b[39m\u001b[38;5;241m*\u001b[39mkwds)\n\u001b[1;32m     46\u001b[0m \u001b[38;5;28;01mif\u001b[39;00m wrap:\n\u001b[1;32m     47\u001b[0m     \u001b[38;5;28;01mif\u001b[39;00m \u001b[38;5;129;01mnot\u001b[39;00m \u001b[38;5;28misinstance\u001b[39m(result, mu\u001b[38;5;241m.\u001b[39mndarray):\n",
      "File \u001b[0;32m/opt/anaconda3/lib/python3.12/site-packages/numpy/core/_methods.py:99\u001b[0m, in \u001b[0;36m_clip\u001b[0;34m(a, min, max, out, **kwargs)\u001b[0m\n\u001b[1;32m     97\u001b[0m     \u001b[38;5;28;01mreturn\u001b[39;00m um\u001b[38;5;241m.\u001b[39mmaximum(a, \u001b[38;5;28mmin\u001b[39m, out\u001b[38;5;241m=\u001b[39mout, \u001b[38;5;241m*\u001b[39m\u001b[38;5;241m*\u001b[39mkwargs)\n\u001b[1;32m     98\u001b[0m \u001b[38;5;28;01melse\u001b[39;00m:\n\u001b[0;32m---> 99\u001b[0m     \u001b[38;5;28;01mreturn\u001b[39;00m um\u001b[38;5;241m.\u001b[39mclip(a, \u001b[38;5;28mmin\u001b[39m, \u001b[38;5;28mmax\u001b[39m, out\u001b[38;5;241m=\u001b[39mout, \u001b[38;5;241m*\u001b[39m\u001b[38;5;241m*\u001b[39mkwargs)\n",
      "\u001b[0;31mKeyboardInterrupt\u001b[0m: "
     ]
    }
   ],
   "source": [
    "# Define optimization parameters\n",
    "generations = 10  # Number of generations\n",
    "iterations = 1  # Iterations per generation\n",
    "n_particles = 10\n",
    "P0 = [1, 0, 0, 0, 0, 0, 0]\n",
    "lb = np.array([0.01, 0.001, 1,  0.01, 0.00001, 1e-8,  0.001, -2.5, 0.001, -2.5,   100])\n",
    "ub = np.array([2,    2,   500, 5,     1,       0.001, 2.5,   -0.001,   2.5,   -0.001,   10000])\n",
    "estimated_params = np.array([0.448, 0.043, 280.035, 1.648, 0.003, 0.00008, 0.917606, -1.4412199, 0.1443847, -0.248558, 5200]) #Input initial values for PSO\n",
    "initial_positions = np.random.normal(loc=estimated_params, scale=(0.3*np.abs(estimated_params)), size=(n_particles, len(estimated_params)))\n",
    "initial_positions = np.clip(initial_positions, lb, ub)\n",
    "\n",
    "# Run PSO + GSS optimization\n",
    "start_time = time.time()\n",
    "final_params, final_error, error_history = pso_gss_optimization(initial_positions, lb, ub, iterations, generations, voltage=v_test, experimental_current=experimental_current)\n",
    "end_time = time.time()\n",
    "\n",
    "#Output\n",
    "elapsed_time = end_time - start_time\n",
    "print(f\"Total time taken for optimization: {elapsed_time:.2f} seconds\")\n",
    "print(\"Final Parameters:\", final_params)\n",
    "print(\"Final Error:\", final_error)"
   ]
  },
  {
   "cell_type": "markdown",
   "id": "785c48a6-9967-4084-974d-07d21249da48",
   "metadata": {},
   "source": [
    "#### Plot results ####"
   ]
  },
  {
   "cell_type": "code",
   "execution_count": 6,
   "id": "81162dea-21d5-4224-ae95-9d465cada1e4",
   "metadata": {},
   "outputs": [
    {
     "ename": "NameError",
     "evalue": "name 'plt' is not defined",
     "output_type": "error",
     "traceback": [
      "\u001b[0;31m---------------------------------------------------------------------------\u001b[0m",
      "\u001b[0;31mNameError\u001b[0m                                 Traceback (most recent call last)",
      "Cell \u001b[0;32mIn[6], line 1\u001b[0m\n\u001b[0;32m----> 1\u001b[0m plt\u001b[38;5;241m.\u001b[39mplot(error_history)\n\u001b[1;32m      2\u001b[0m plt\u001b[38;5;241m.\u001b[39mxlabel(\u001b[38;5;124m'\u001b[39m\u001b[38;5;124mIteration Number\u001b[39m\u001b[38;5;124m'\u001b[39m)\n\u001b[1;32m      3\u001b[0m plt\u001b[38;5;241m.\u001b[39mylabel(\u001b[38;5;124m'\u001b[39m\u001b[38;5;124mError\u001b[39m\u001b[38;5;124m'\u001b[39m)\n",
      "\u001b[0;31mNameError\u001b[0m: name 'plt' is not defined"
     ]
    }
   ],
   "source": [
    "plt.plot(error_history)\n",
    "plt.xlabel('Iteration Number')\n",
    "plt.ylabel('Error')\n",
    "plt.title('Error in Each Iteration of PSO-GSS')\n",
    "plt.grid()\n",
    "plt.savefig('Kv13_error.png', format='png')\n",
    "plt.show()"
   ]
  },
  {
   "cell_type": "code",
   "execution_count": null,
   "id": "434c4582-001e-407f-9c4a-ce1e4e8b329d",
   "metadata": {},
   "outputs": [],
   "source": []
  },
  {
   "cell_type": "code",
   "execution_count": null,
   "id": "7260a987-5b00-4559-82da-0ee93ed47181",
   "metadata": {},
   "outputs": [],
   "source": []
  }
 ],
 "metadata": {
  "kernelspec": {
   "display_name": "Python 3 (ipykernel)",
   "language": "python",
   "name": "python3"
  },
  "language_info": {
   "codemirror_mode": {
    "name": "ipython",
    "version": 3
   },
   "file_extension": ".py",
   "mimetype": "text/x-python",
   "name": "python",
   "nbconvert_exporter": "python",
   "pygments_lexer": "ipython3",
   "version": "3.12.4"
  }
 },
 "nbformat": 4,
 "nbformat_minor": 5
}
